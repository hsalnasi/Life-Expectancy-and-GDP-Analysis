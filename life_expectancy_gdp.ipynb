{
 "cells": [
  {
   "cell_type": "markdown",
   "metadata": {},
   "source": [
    "#  _<center> Life Expectancy and GDP Analysis </center>_"
   ]
  },
  {
   "cell_type": "markdown",
   "metadata": {},
   "source": [
    "### _ <center> Introduction </center>_"
   ]
  },
  {
   "cell_type": "markdown",
   "metadata": {},
   "source": [
    "This project will examine whether a relationship exists between the GDP of six countries and the life expectancy of their populations.\n",
    "\n",
    "The goals are to prepare data, EDA with ploting, and share findings and study the results. \n",
    "\n",
    "**Data Source:** \n",
    "\n",
    "- GDP Source: [World Bank](https://data.worldbank.org/indicator/NY.GDP.MKTP.CD) national accounts data, and OECD National Accounts data files.\n",
    "\n",
    "- Life expectancy Data Source: [World Health Organization](http://apps.who.int/gho/data/node.main.688)\n"
   ]
  },
  {
   "cell_type": "markdown",
   "metadata": {},
   "source": [
    "### Importing requeired libraries ."
   ]
  },
  {
   "cell_type": "code",
   "execution_count": 1,
   "metadata": {},
   "outputs": [
    {
     "ename": "OSError",
     "evalue": "'presentation' not found in the style library and input is not a valid URL or path; see `style.available` for list of available styles",
     "output_type": "error",
     "traceback": [
      "\u001b[1;31m---------------------------------------------------------------------------\u001b[0m",
      "\u001b[1;31mFileNotFoundError\u001b[0m                         Traceback (most recent call last)",
      "\u001b[1;32m~\\anaconda3\\lib\\site-packages\\matplotlib\\style\\core.py\u001b[0m in \u001b[0;36muse\u001b[1;34m(style)\u001b[0m\n\u001b[0;32m    126\u001b[0m             \u001b[1;32mtry\u001b[0m\u001b[1;33m:\u001b[0m\u001b[1;33m\u001b[0m\u001b[1;33m\u001b[0m\u001b[0m\n\u001b[1;32m--> 127\u001b[1;33m                 \u001b[0mrc\u001b[0m \u001b[1;33m=\u001b[0m \u001b[0mrc_params_from_file\u001b[0m\u001b[1;33m(\u001b[0m\u001b[0mstyle\u001b[0m\u001b[1;33m,\u001b[0m \u001b[0muse_default_template\u001b[0m\u001b[1;33m=\u001b[0m\u001b[1;32mFalse\u001b[0m\u001b[1;33m)\u001b[0m\u001b[1;33m\u001b[0m\u001b[1;33m\u001b[0m\u001b[0m\n\u001b[0m\u001b[0;32m    128\u001b[0m                 \u001b[0m_apply_style\u001b[0m\u001b[1;33m(\u001b[0m\u001b[0mrc\u001b[0m\u001b[1;33m)\u001b[0m\u001b[1;33m\u001b[0m\u001b[1;33m\u001b[0m\u001b[0m\n",
      "\u001b[1;32m~\\anaconda3\\lib\\site-packages\\matplotlib\\__init__.py\u001b[0m in \u001b[0;36mrc_params_from_file\u001b[1;34m(fname, fail_on_error, use_default_template)\u001b[0m\n\u001b[0;32m    851\u001b[0m     \"\"\"\n\u001b[1;32m--> 852\u001b[1;33m     \u001b[0mconfig_from_file\u001b[0m \u001b[1;33m=\u001b[0m \u001b[0m_rc_params_in_file\u001b[0m\u001b[1;33m(\u001b[0m\u001b[0mfname\u001b[0m\u001b[1;33m,\u001b[0m \u001b[0mfail_on_error\u001b[0m\u001b[1;33m=\u001b[0m\u001b[0mfail_on_error\u001b[0m\u001b[1;33m)\u001b[0m\u001b[1;33m\u001b[0m\u001b[1;33m\u001b[0m\u001b[0m\n\u001b[0m\u001b[0;32m    853\u001b[0m \u001b[1;33m\u001b[0m\u001b[0m\n",
      "\u001b[1;32m~\\anaconda3\\lib\\site-packages\\matplotlib\\__init__.py\u001b[0m in \u001b[0;36m_rc_params_in_file\u001b[1;34m(fname, transform, fail_on_error)\u001b[0m\n\u001b[0;32m    777\u001b[0m     \u001b[0mrc_temp\u001b[0m \u001b[1;33m=\u001b[0m \u001b[1;33m{\u001b[0m\u001b[1;33m}\u001b[0m\u001b[1;33m\u001b[0m\u001b[1;33m\u001b[0m\u001b[0m\n\u001b[1;32m--> 778\u001b[1;33m     \u001b[1;32mwith\u001b[0m \u001b[0m_open_file_or_url\u001b[0m\u001b[1;33m(\u001b[0m\u001b[0mfname\u001b[0m\u001b[1;33m)\u001b[0m \u001b[1;32mas\u001b[0m \u001b[0mfd\u001b[0m\u001b[1;33m:\u001b[0m\u001b[1;33m\u001b[0m\u001b[1;33m\u001b[0m\u001b[0m\n\u001b[0m\u001b[0;32m    779\u001b[0m         \u001b[1;32mtry\u001b[0m\u001b[1;33m:\u001b[0m\u001b[1;33m\u001b[0m\u001b[1;33m\u001b[0m\u001b[0m\n",
      "\u001b[1;32m~\\anaconda3\\lib\\contextlib.py\u001b[0m in \u001b[0;36m__enter__\u001b[1;34m(self)\u001b[0m\n\u001b[0;32m    118\u001b[0m         \u001b[1;32mtry\u001b[0m\u001b[1;33m:\u001b[0m\u001b[1;33m\u001b[0m\u001b[1;33m\u001b[0m\u001b[0m\n\u001b[1;32m--> 119\u001b[1;33m             \u001b[1;32mreturn\u001b[0m \u001b[0mnext\u001b[0m\u001b[1;33m(\u001b[0m\u001b[0mself\u001b[0m\u001b[1;33m.\u001b[0m\u001b[0mgen\u001b[0m\u001b[1;33m)\u001b[0m\u001b[1;33m\u001b[0m\u001b[1;33m\u001b[0m\u001b[0m\n\u001b[0m\u001b[0;32m    120\u001b[0m         \u001b[1;32mexcept\u001b[0m \u001b[0mStopIteration\u001b[0m\u001b[1;33m:\u001b[0m\u001b[1;33m\u001b[0m\u001b[1;33m\u001b[0m\u001b[0m\n",
      "\u001b[1;32m~\\anaconda3\\lib\\site-packages\\matplotlib\\__init__.py\u001b[0m in \u001b[0;36m_open_file_or_url\u001b[1;34m(fname)\u001b[0m\n\u001b[0;32m    754\u001b[0m             \u001b[0mencoding\u001b[0m \u001b[1;33m=\u001b[0m \u001b[1;34m\"utf-8\"\u001b[0m\u001b[1;33m\u001b[0m\u001b[1;33m\u001b[0m\u001b[0m\n\u001b[1;32m--> 755\u001b[1;33m         \u001b[1;32mwith\u001b[0m \u001b[0mopen\u001b[0m\u001b[1;33m(\u001b[0m\u001b[0mfname\u001b[0m\u001b[1;33m,\u001b[0m \u001b[0mencoding\u001b[0m\u001b[1;33m=\u001b[0m\u001b[0mencoding\u001b[0m\u001b[1;33m)\u001b[0m \u001b[1;32mas\u001b[0m \u001b[0mf\u001b[0m\u001b[1;33m:\u001b[0m\u001b[1;33m\u001b[0m\u001b[1;33m\u001b[0m\u001b[0m\n\u001b[0m\u001b[0;32m    756\u001b[0m             \u001b[1;32myield\u001b[0m \u001b[0mf\u001b[0m\u001b[1;33m\u001b[0m\u001b[1;33m\u001b[0m\u001b[0m\n",
      "\u001b[1;31mFileNotFoundError\u001b[0m: [Errno 2] No such file or directory: 'presentation'",
      "\nThe above exception was the direct cause of the following exception:\n",
      "\u001b[1;31mOSError\u001b[0m                                   Traceback (most recent call last)",
      "\u001b[1;32m~\\AppData\\Local\\Temp\\ipykernel_28172\\160814343.py\u001b[0m in \u001b[0;36m<module>\u001b[1;34m\u001b[0m\n\u001b[0;32m      7\u001b[0m \u001b[1;32mimport\u001b[0m \u001b[0mmatplotlib\u001b[0m\u001b[1;33m.\u001b[0m\u001b[0mpyplot\u001b[0m \u001b[1;32mas\u001b[0m \u001b[0mplt\u001b[0m\u001b[1;33m\u001b[0m\u001b[1;33m\u001b[0m\u001b[0m\n\u001b[0;32m      8\u001b[0m \u001b[0mget_ipython\u001b[0m\u001b[1;33m(\u001b[0m\u001b[1;33m)\u001b[0m\u001b[1;33m.\u001b[0m\u001b[0mrun_line_magic\u001b[0m\u001b[1;33m(\u001b[0m\u001b[1;34m'matplotlib'\u001b[0m\u001b[1;33m,\u001b[0m \u001b[1;34m'inline'\u001b[0m\u001b[1;33m)\u001b[0m\u001b[1;33m\u001b[0m\u001b[1;33m\u001b[0m\u001b[0m\n\u001b[1;32m----> 9\u001b[1;33m \u001b[0mplt\u001b[0m\u001b[1;33m.\u001b[0m\u001b[0mstyle\u001b[0m\u001b[1;33m.\u001b[0m\u001b[0muse\u001b[0m\u001b[1;33m(\u001b[0m\u001b[1;34m'presentation'\u001b[0m\u001b[1;33m)\u001b[0m\u001b[1;33m\u001b[0m\u001b[1;33m\u001b[0m\u001b[0m\n\u001b[0m",
      "\u001b[1;32m~\\anaconda3\\lib\\site-packages\\matplotlib\\style\\core.py\u001b[0m in \u001b[0;36muse\u001b[1;34m(style)\u001b[0m\n\u001b[0;32m    128\u001b[0m                 \u001b[0m_apply_style\u001b[0m\u001b[1;33m(\u001b[0m\u001b[0mrc\u001b[0m\u001b[1;33m)\u001b[0m\u001b[1;33m\u001b[0m\u001b[1;33m\u001b[0m\u001b[0m\n\u001b[0;32m    129\u001b[0m             \u001b[1;32mexcept\u001b[0m \u001b[0mIOError\u001b[0m \u001b[1;32mas\u001b[0m \u001b[0merr\u001b[0m\u001b[1;33m:\u001b[0m\u001b[1;33m\u001b[0m\u001b[1;33m\u001b[0m\u001b[0m\n\u001b[1;32m--> 130\u001b[1;33m                 raise IOError(\n\u001b[0m\u001b[0;32m    131\u001b[0m                     \u001b[1;34m\"{!r} not found in the style library and input is not a \"\u001b[0m\u001b[1;33m\u001b[0m\u001b[1;33m\u001b[0m\u001b[0m\n\u001b[0;32m    132\u001b[0m                     \u001b[1;34m\"valid URL or path; see `style.available` for list of \"\u001b[0m\u001b[1;33m\u001b[0m\u001b[1;33m\u001b[0m\u001b[0m\n",
      "\u001b[1;31mOSError\u001b[0m: 'presentation' not found in the style library and input is not a valid URL or path; see `style.available` for list of available styles"
     ]
    }
   ],
   "source": [
    "import csv \n",
    "import pandas as pd\n",
    "import seaborn as sns\n",
    "import numpy as np \n",
    "from scipy.stats import pearsonr\n",
    "\n",
    "import matplotlib.pyplot as plt\n",
    "%matplotlib inline\n"
   ]
  },
  {
   "cell_type": "markdown",
   "metadata": {},
   "source": [
    "### Load data"
   ]
  },
  {
   "cell_type": "markdown",
   "metadata": {},
   "source": [
    "Given a csv file `all_data.csv`, the dataset is loaded to a Pandas Dataframe , then the dataframe head will be printed to give an inspection about the dataset "
   ]
  },
  {
   "cell_type": "code",
   "execution_count": null,
   "metadata": {},
   "outputs": [],
   "source": [
    "# read the dataset \n",
    "df = pd.read_csv('all_data.csv')\n",
    "df.head()\n"
   ]
  },
  {
   "cell_type": "markdown",
   "metadata": {},
   "source": [
    "To get a better understanding of the data , the data shape will be printed. "
   ]
  },
  {
   "cell_type": "code",
   "execution_count": null,
   "metadata": {},
   "outputs": [],
   "source": [
    "\n",
    "print('shape:',df.shape, '\\n')\n"
   ]
  },
  {
   "cell_type": "markdown",
   "metadata": {},
   "source": [
    "now it is noted that the data has 4 columns in total and 96 rows"
   ]
  },
  {
   "cell_type": "markdown",
   "metadata": {},
   "source": [
    "### Explore The data"
   ]
  },
  {
   "cell_type": "markdown",
   "metadata": {},
   "source": [
    "To better understand the relationship between GDP and Life expectency, we would need to explore the data and perform some summary statistics and look for any null values (if exsists)."
   ]
  },
  {
   "cell_type": "code",
   "execution_count": null,
   "metadata": {},
   "outputs": [],
   "source": [
    "# perform summry statics\n",
    "print(df.describe(include='all'), '\\n')\n",
    "\n",
    "\n",
    "print(df.info(), '\\n\\n') # -> 4 ccolumns in total, 96 records(rows) in each column \n",
    "\n",
    "# check for null values :\n",
    "print('\\n null values:')\n",
    "print(df.isnull().sum(), '\\n\\n') # -> 0 / no null values\n",
    "\n"
   ]
  },
  {
   "cell_type": "markdown",
   "metadata": {},
   "source": [
    "The data seems to have zero null values. in the next step we will investigate the number of countries we are comparing and the number of years we are interested in. "
   ]
  },
  {
   "cell_type": "code",
   "execution_count": null,
   "metadata": {},
   "outputs": [],
   "source": [
    "\n",
    "print('num of Countries: ',df['Country'].unique(), '\\n')\n",
    "print('num of years in the data set:' , '\\n', df['Year'])"
   ]
  },
  {
   "cell_type": "markdown",
   "metadata": {},
   "source": [
    "We are comparing the GDP and life expectency of *six* countries around the period from *2000-2015*"
   ]
  },
  {
   "cell_type": "markdown",
   "metadata": {},
   "source": [
    "#### Cleaning columns"
   ]
  },
  {
   "cell_type": "code",
   "execution_count": null,
   "metadata": {},
   "outputs": [],
   "source": [
    "# Changing United States of Amercia to USA \n",
    "df['Country'] = df['Country'].replace('United States of America', 'USA',regex=True)\n",
    "print(df['Country'].unique())\n",
    "\n",
    "df = df.rename(columns={ 'Life expectancy at birth (years)' : 'LEABY'})\n",
    "\n",
    "df"
   ]
  },
  {
   "cell_type": "markdown",
   "metadata": {},
   "source": [
    "Looking back at the data , some columns names were too long espacially when plotted\n",
    "- The column `Life expectency at Brith (years)` was changed to --> **LEABY**\n",
    "- The column `United State of America` has been changed to --> **USA**"
   ]
  },
  {
   "cell_type": "markdown",
   "metadata": {},
   "source": [
    "## EDA and Plotting "
   ]
  },
  {
   "cell_type": "markdown",
   "metadata": {},
   "source": [
    "Distribute visualization can give quite handy insights about the data . Below, the frequency of GDP rates and LEABY would be shown. "
   ]
  },
  {
   "cell_type": "code",
   "execution_count": null,
   "metadata": {},
   "outputs": [],
   "source": [
    "sns.set_style('darkgrid', {'axes.grid': 'false', 'figure.facecolor': 'white',\n",
    "                           'axes.facecolor': 'D4E2D4', 'text.color': 'black',\n",
    "                          'xtick.color': 'black', 'ytick.color': 'black', 'axes.labelcolor': 'black'})\n",
    "sns.set_palette('dark')             \n",
    "\n",
    "sns.histplot(x=df.GDP, kde=True, bins=20 , color='#001B79')# palette='RdBu_r\n",
    "plt.title('GDP in Trillions of US Dollars $.')\n",
    "\n",
    "plt.show()\n",
    "\n",
    "print('GDP:','\\n', df['GDP'].describe(),'\\n')\n"
   ]
  },
  {
   "cell_type": "markdown",
   "metadata": {},
   "source": [
    "It appers that the data is left skewed with no outliers as it is shown in the graph. \n",
    "This can tell us that there's there are relatively few data points on the left side."
   ]
  },
  {
   "cell_type": "code",
   "execution_count": null,
   "metadata": {},
   "outputs": [],
   "source": [
    "sns.set_style('darkgrid', {'axes.grid': 'false', 'figure.facecolor': 'white' , 'axes.facecolor': '#e2e2e2'})\n",
    "\n",
    "sns.histplot(x=df.LEABY, kde=True, bins=96, element='poly',palette='RdBu_r',color='#c23728') \n",
    "plt.title('Life expectency at Birth (Years) ')\n",
    "plt.xlabel('Life Expectency ')\n",
    "plt.show()\n",
    "\n",
    "print('LEABY:',df['LEABY'].describe())\n",
    " \n",
    "# checking if values [60-70] does exsists in the dataset :\n",
    "noFreq_lst = [print(num) for num in df['LEABY'] if num > 60 and num < 70.2]\n"
   ]
  },
  {
   "cell_type": "markdown",
   "metadata": {},
   "source": [
    "In contrary, when we look at the frequancy of Life expectancy in general we can see that the data is slightly skewed to the right . It is also noticable the absence of the values from the range *61-70* with 0 frequency in the dataset , this has been checked by a simple `for` loop above."
   ]
  },
  {
   "cell_type": "markdown",
   "metadata": {},
   "source": [
    "### LEABY vs GDP over the years ."
   ]
  },
  {
   "cell_type": "markdown",
   "metadata": {},
   "source": [
    "A scatterplot was created to visualize the relationship between LEABY(Life expectancy at birth) and GDP over the years ***[2000 - 2015]***. \n",
    "It has been seen that in general, GDP and LEABY has been increasing over the years with some \n",
    "inconsistency at some of the periods. \n",
    "It also seen that year 2015 was the *peak point* for all the 6 nations's GDP and LEABY .\n"
   ]
  },
  {
   "cell_type": "code",
   "execution_count": null,
   "metadata": {
    "scrolled": true
   },
   "outputs": [],
   "source": [
    "sns.set_style('white', {'axes.facecolor':'F0F0F0'})\n",
    "# creeate a figure\n",
    "plt.figure(figsize=(20,8))\n",
    "\n",
    "\n",
    "# create scatterplot 1\n",
    "ax = plt.subplot(1,2,1)\n",
    "sns.scatterplot(x=df.Year, y=df.GDP, color='red',data=df ,hue='Country', palette='muted')\n",
    "plt.yscale('log')\n",
    "plt.title('GDP by Country')\n",
    "sns.move_legend(ax, 'lower right' , bbox_to_anchor=(1, 1))\n",
    "\n",
    "# create scatterplot 2 \n",
    "LEABY_palette = sns.color_palette(\"RdYlGn\", n_colors=len(df[\"Country\"].unique()))\n",
    "plt.subplot(1, 2 , 2)\n",
    "sns.scatterplot(x=df.Year, y=df.LEABY, data=df, hue='Country', palette=LEABY_palette)\n",
    "plt.yscale('linear')\n",
    "plt.title('Life Expecticy At Birth by Country')\n",
    "sns.move_legend(ax, 'lower right',  bbox_to_anchor=(0,0))#, bbox_to_anchor=(5, 1))\n",
    "plt.show()\n",
    "plt.close('all')\n"
   ]
  },
  {
   "cell_type": "code",
   "execution_count": null,
   "metadata": {},
   "outputs": [],
   "source": [
    "# setting up the style\n",
    "sns.set_style(\"darkgrid\", {\"axes.facecolor\": \"FFFFFF\",\n",
    "                           'axes.labelcolor': 'white'\n",
    "                           ,'axes.edgecolor': 'black'\n",
    "                           ,'figure.facecolor':'#222222'\n",
    "                          , 'font.sans-serif': 'DejaVu Sans'\n",
    "                           , 'axes.grid': 'False'\n",
    "                          , 'text.color': 'white'\n",
    "                          ,'xtick.color':'white'\n",
    "                          ,'ytick.color': 'white'})\n",
    "\n",
    "sns.plotting_context(\"talk\")\n",
    "\n",
    "# creating a new dataframe containing only the mean values of GDP,LEABY\n",
    "dfMean = df.drop('Year', axis=1).groupby('Country').mean().round().reset_index(inplace=False)\n",
    "\n",
    "# create figure\n",
    "fig = plt.figure(figsize=(12,5))\n",
    "\n",
    "#create first graph\n",
    "sns.barplot(data=dfMean, x=dfMean.Country, y=dfMean.LEABY, palette='OrRd')#twilight_shifted_r\n",
    "plt.title('Comparative Life Expectancy at Birth Across Six Countries')\n",
    "plt.show()\n",
    "plt.close('all')\n",
    "\n",
    "#create second graph\n",
    "sns.barplot(data=dfMean, x=dfMean.Country, y=dfMean.GDP,fill=True,color='#7284A8', palette='Greens')\n",
    "plt.title('The GDP of Six Countries')\n",
    "plt.yscale('log')\n",
    "plt.show()\n",
    "\n",
    "#display the new dataframe\n",
    "dfMean"
   ]
  },
  {
   "cell_type": "markdown",
   "metadata": {},
   "source": [
    "It was noted that on Average, USA had the highest GDP along with the having the third largest LEABY while Zimbebwe on the other hand is shown to have the least GDP of all the other nations.\n",
    "this indicates that there could be a possiable relation between the GDP and The life expectency at birth rates. \n"
   ]
  },
  {
   "cell_type": "markdown",
   "metadata": {},
   "source": [
    "*To investigate this further , a comparison of each country's GDP and LEABY will be created using a scatterplot*"
   ]
  },
  {
   "cell_type": "code",
   "execution_count": null,
   "metadata": {},
   "outputs": [],
   "source": [
    "graph = sns.FacetGrid(df, col=\"Country\", col_wrap=3,\n",
    "                      hue = \"Country\", sharey = False, sharex = False)\n",
    "graph = (graph.map(sns.scatterplot,\"LEABY\", \"GDP\")\n",
    "         .add_legend()\n",
    "         .set_axis_labels(\"Life expectancy at birth (years)\", \"GDP in Trillions of U.S. Dollars\"));\n",
    "graph = graph.map(sns.regplot, \"LEABY\", \"GDP\", scatter=False, ci=None)"
   ]
  },
  {
   "cell_type": "markdown",
   "metadata": {},
   "source": [
    "## Correlation and Relation."
   ]
  },
  {
   "cell_type": "markdown",
   "metadata": {},
   "source": [
    "**The scatterplots shows that indeed there's a linear relationship between the GDP amount and the LEABY.**\n",
    "- This can tell us that there might be a correlation between the two variables\n",
    "- This also indicates that the two variables might have relation.\n"
   ]
  },
  {
   "cell_type": "code",
   "execution_count": null,
   "metadata": {},
   "outputs": [],
   "source": [
    "# calculate the correlation\n",
    "corr_matrix = df[['GDP','LEABY']].corr()\n",
    "print('Correlation matrix:\\n\\n',corr_matrix)\n",
    "\n",
    "#calculate again using pearson's method\n",
    "corr_gdp_leaby_mean, p = pearsonr(df.LEABY, df.GDP)\n",
    "#print the p value \n",
    "print('\\n',f'p value:', p)\n",
    "\n",
    "# visualize the correlation(if exsist)\n",
    "sns.heatmap(corr_matrix, annot=True, cmap='coolwarm', vmin=1, vmax=1)\n",
    "plt.show()\n"
   ]
  },
  {
   "cell_type": "markdown",
   "metadata": {},
   "source": [
    " It appers that as suspected, The GDP has a positive correlation with the Life expectency at birth rate. Meaning that Whenever there is <ins>an increase </ins> in the total GDP in one of the 6 Countries, The LEABY rate would also<ins> increase.</ins>"
   ]
  },
  {
   "cell_type": "markdown",
   "metadata": {},
   "source": [
    "### [Conclusion]"
   ]
  },
  {
   "cell_type": "markdown",
   "metadata": {},
   "source": [
    "the project provides a thorough examination of the relationship between GDP and life expectancy at birth across multiple countries. The combination of statistical analyses, visualizations, and correlation testing contributes to a comprehensive understanding of the interplay between economic factors and health outcomes. These findings can be valuable for policymakers, researchers, and stakeholders interested in the socio-economic determinants of life expectancy."
   ]
  }
 ],
 "metadata": {
  "kernelspec": {
   "display_name": "Python 3 (ipykernel)",
   "language": "python",
   "name": "python3"
  },
  "language_info": {
   "codemirror_mode": {
    "name": "ipython",
    "version": 3
   },
   "file_extension": ".py",
   "mimetype": "text/x-python",
   "name": "python",
   "nbconvert_exporter": "python",
   "pygments_lexer": "ipython3",
   "version": "3.9.13"
  }
 },
 "nbformat": 4,
 "nbformat_minor": 4
}
